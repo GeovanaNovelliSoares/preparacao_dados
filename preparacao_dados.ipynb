{
 "cells": [
  {
   "cell_type": "code",
   "execution_count": null,
   "metadata": {},
   "outputs": [],
   "source": [
    "# Importando bibliotecas e carregando dataset \n",
    "#link: https://www.kaggle.com/datasets/keyushnisar/global-product-inventory-dataset-2025\n",
    "\n",
    "import pandas as pd\n",
    "\n",
    "url = \"products.csv\"\n",
    "df = pd.read_csv(url)\n"
   ]
  },
  {
   "cell_type": "code",
   "execution_count": 6,
   "metadata": {},
   "outputs": [
    {
     "name": "stdout",
     "output_type": "stream",
     "text": [
      "  Product ID Product Name Product Category Product Description   Price  \\\n",
      "0   93TGNAY7       Laptop  Home Appliances       Product_XU5QX  253.17   \n",
      "1   TYYZ5AV7   Smartphone         Clothing       Product_NRUMS  214.37   \n",
      "2   5C94FGTQ   Headphones         Clothing       Product_IT7HG  475.29   \n",
      "3   XBHKYPQB      Monitor         Clothing       Product_8SBDO  403.33   \n",
      "4   728GCZFU       Laptop  Home Appliances       Product_54FAF  229.81   \n",
      "\n",
      "   Stock Quantity  Warranty Period Product Dimensions Manufacturing Date  \\\n",
      "0               3                2        16x15x15 cm         2023-01-01   \n",
      "1              92                2        15x19x19 cm         2023-03-15   \n",
      "2              19                2           9x6x6 cm         2023-03-15   \n",
      "3              40                1          7x13x5 cm         2023-01-01   \n",
      "4              32                2        20x20x19 cm         2023-07-30   \n",
      "\n",
      "  Expiration Date     SKU Product Tags Color/Size Variations  Product Ratings  \n",
      "0      2026-01-01  8NMFZ4      VNU,NZ6           Green/Large                2  \n",
      "1      2025-01-01  7P5YCW      ZJA,0D3             Red/Small                2  \n",
      "2      2026-01-01  YW5BME      ZNG,MAP             Red/Small                1  \n",
      "3      2026-01-01  65MQC3      RPP,M40           Green/Large                1  \n",
      "4      2026-01-01  RLCBRW      R8U,X46           Blue/Medium                4  \n"
     ]
    }
   ],
   "source": [
    "#Visualizar as primeiras linhas\n",
    "\n",
    "print(df.head())"
   ]
  },
  {
   "cell_type": "code",
   "execution_count": 7,
   "metadata": {},
   "outputs": [
    {
     "name": "stdout",
     "output_type": "stream",
     "text": [
      "<class 'pandas.core.frame.DataFrame'>\n",
      "RangeIndex: 10000 entries, 0 to 9999\n",
      "Data columns (total 14 columns):\n",
      " #   Column                 Non-Null Count  Dtype  \n",
      "---  ------                 --------------  -----  \n",
      " 0   Product ID             10000 non-null  object \n",
      " 1   Product Name           10000 non-null  object \n",
      " 2   Product Category       10000 non-null  object \n",
      " 3   Product Description    10000 non-null  object \n",
      " 4   Price                  10000 non-null  float64\n",
      " 5   Stock Quantity         10000 non-null  int64  \n",
      " 6   Warranty Period        10000 non-null  int64  \n",
      " 7   Product Dimensions     10000 non-null  object \n",
      " 8   Manufacturing Date     10000 non-null  object \n",
      " 9   Expiration Date        10000 non-null  object \n",
      " 10  SKU                    10000 non-null  object \n",
      " 11  Product Tags           10000 non-null  object \n",
      " 12  Color/Size Variations  10000 non-null  object \n",
      " 13  Product Ratings        10000 non-null  int64  \n",
      "dtypes: float64(1), int64(3), object(10)\n",
      "memory usage: 1.1+ MB\n",
      "None\n"
     ]
    }
   ],
   "source": [
    "#Informações gerais do dataframe\n",
    "print(df.info())"
   ]
  },
  {
   "cell_type": "code",
   "execution_count": 8,
   "metadata": {},
   "outputs": [
    {
     "name": "stdout",
     "output_type": "stream",
     "text": [
      "              Price  Stock Quantity  Warranty Period  Product Ratings\n",
      "count  10000.000000    10000.000000     10000.000000     10000.000000\n",
      "mean     254.665715       50.647100         2.014000         3.004700\n",
      "std      142.755688       28.901977         0.817968         1.419676\n",
      "min       10.220000        1.000000         1.000000         1.000000\n",
      "25%      129.985000       25.000000         1.000000         2.000000\n",
      "50%      253.425000       51.000000         2.000000         3.000000\n",
      "75%      379.970000       76.000000         3.000000         4.000000\n",
      "max      499.970000      100.000000         3.000000         5.000000\n"
     ]
    }
   ],
   "source": [
    "#Para obter estatiscas iniciais\n",
    "print(df.describe())"
   ]
  },
  {
   "cell_type": "code",
   "execution_count": 10,
   "metadata": {},
   "outputs": [
    {
     "name": "stdout",
     "output_type": "stream",
     "text": [
      "  Product Name Product ID\n",
      "0       Laptop   93TGNAY7\n",
      "1   Smartphone   TYYZ5AV7\n",
      "2   Headphones   5C94FGTQ\n",
      "3      Monitor   XBHKYPQB\n",
      "4       Laptop   728GCZFU\n"
     ]
    }
   ],
   "source": [
    "#Para selecionar colunas especificas\n",
    "col = ['Product Name', 'Product ID']\n",
    "df_resumo = df[col]\n",
    "print(df_resumo.head())\n"
   ]
  },
  {
   "cell_type": "code",
   "execution_count": 12,
   "metadata": {},
   "outputs": [
    {
     "name": "stdout",
     "output_type": "stream",
     "text": [
      "  ID_Produto Nome_Produto Categoria_Produto Descricao_Produto   Preco  \\\n",
      "0   93TGNAY7       Laptop   Home Appliances     Product_XU5QX  253.17   \n",
      "1   TYYZ5AV7   Smartphone          Clothing     Product_NRUMS  214.37   \n",
      "2   5C94FGTQ   Headphones          Clothing     Product_IT7HG  475.29   \n",
      "3   XBHKYPQB      Monitor          Clothing     Product_8SBDO  403.33   \n",
      "4   728GCZFU       Laptop   Home Appliances     Product_54FAF  229.81   \n",
      "\n",
      "   Quantidade_Estoque  Garantia_Anos Dimensoes_Produto Data_Fabricacao  \\\n",
      "0                   3              2       16x15x15 cm      2023-01-01   \n",
      "1                  92              2       15x19x19 cm      2023-03-15   \n",
      "2                  19              2          9x6x6 cm      2023-03-15   \n",
      "3                  40              1         7x13x5 cm      2023-01-01   \n",
      "4                  32              2       20x20x19 cm      2023-07-30   \n",
      "\n",
      "  Data_Expiracao Codigo_SKU Tags_Produto Variacoes_Cor_Tamanho  \\\n",
      "0     2026-01-01     8NMFZ4      VNU,NZ6           Green/Large   \n",
      "1     2025-01-01     7P5YCW      ZJA,0D3             Red/Small   \n",
      "2     2026-01-01     YW5BME      ZNG,MAP             Red/Small   \n",
      "3     2026-01-01     65MQC3      RPP,M40           Green/Large   \n",
      "4     2026-01-01     RLCBRW      R8U,X46           Blue/Medium   \n",
      "\n",
      "   Avaliacao_Produto  \n",
      "0                  2  \n",
      "1                  2  \n",
      "2                  1  \n",
      "3                  1  \n",
      "4                  4  \n"
     ]
    }
   ],
   "source": [
    "#Renomeando colunas \n",
    "df.rename(columns={\n",
    "    'Product ID': 'ID_Produto',\n",
    "    'Product Name': 'Nome_Produto',\n",
    "    'Product Category': 'Categoria_Produto',\n",
    "    'Product Description': 'Descricao_Produto',\n",
    "    'Price': 'Preco',\n",
    "    'Stock Quantity': 'Quantidade_Estoque',\n",
    "    'Warranty Period': 'Garantia_Anos',\n",
    "    'Product Dimensions': 'Dimensoes_Produto',\n",
    "    'Manufacturing Date': 'Data_Fabricacao',\n",
    "    'Expiration Date': 'Data_Expiracao',\n",
    "    'SKU': 'Codigo_SKU',\n",
    "    'Product Tags': 'Tags_Produto',\n",
    "    'Color/Size Variations': 'Variacoes_Cor_Tamanho',\n",
    "    'Product Ratings': 'Avaliacao_Produto'\n",
    "}, inplace=True)\n",
    "\n",
    "print(df.head())\n",
    "\n",
    "\n",
    "# Para facilitar a análise no Power BI"
   ]
  },
  {
   "cell_type": "code",
   "execution_count": 13,
   "metadata": {},
   "outputs": [
    {
     "name": "stdout",
     "output_type": "stream",
     "text": [
      "ID_Produto               0\n",
      "Nome_Produto             0\n",
      "Categoria_Produto        0\n",
      "Descricao_Produto        0\n",
      "Preco                    0\n",
      "Quantidade_Estoque       0\n",
      "Garantia_Anos            0\n",
      "Dimensoes_Produto        0\n",
      "Data_Fabricacao          0\n",
      "Data_Expiracao           0\n",
      "Codigo_SKU               0\n",
      "Tags_Produto             0\n",
      "Variacoes_Cor_Tamanho    0\n",
      "Avaliacao_Produto        0\n",
      "dtype: int64\n"
     ]
    }
   ],
   "source": [
    "#Tratamento de Dados: Verificando e tratando valores nulos\n",
    "print(df.isnull().sum())\n",
    "df.fillna({'Quantidade_Estoque': 0, 'Preco': 0, 'Avaliacao_Produto': 0}, inplace=True)"
   ]
  },
  {
   "cell_type": "code",
   "execution_count": 15,
   "metadata": {},
   "outputs": [],
   "source": [
    "#Convertendo Tipos de Dados\n",
    "df['Preco'] = df['Preco'].astype(float)\n",
    "df['Quantidade_Estoque'] = df['Quantidade_Estoque'].astype(int)\n",
    "df['Avaliacao_Produto'] = df['Avaliacao_Produto'].astype(int)\n",
    "\n",
    "# Converter datas para o formato correto\n",
    "df['Data_Fabricacao'] = pd.to_datetime(df['Data_Fabricacao'])\n",
    "df['Data_Expiracao'] = pd.to_datetime(df['Data_Expiracao'])\n"
   ]
  },
  {
   "cell_type": "code",
   "execution_count": null,
   "metadata": {},
   "outputs": [],
   "source": [
    "# Adicionando uma coluna indicando se o produto está em estoque ou não\n",
    "df['Em_Estoque'] = df['Quantidade_Estoque'].apply(lambda x: 'Sim' if x > 0 else 'Não')"
   ]
  },
  {
   "cell_type": "code",
   "execution_count": 17,
   "metadata": {},
   "outputs": [],
   "source": [
    "#Categoria com base dos preços \n",
    "def classificar_preco(valor):\n",
    "    if valor < 100:\n",
    "        return 'Baixo'\n",
    "    elif 100 <= valor < 300:\n",
    "        return 'Médio'\n",
    "    else:\n",
    "        return 'Alto'\n",
    "\n",
    "df['Categoria_Preco'] = df['Preco'].apply(classificar_preco)\n"
   ]
  },
  {
   "cell_type": "code",
   "execution_count": null,
   "metadata": {},
   "outputs": [],
   "source": [
    "# Exportando os Dados para o Power BI"
   ]
  },
  {
   "cell_type": "code",
   "execution_count": 18,
   "metadata": {},
   "outputs": [],
   "source": [
    "#Exportando para CSV\n",
    "df.to_csv(\"produtos_powerbi.csv\", index=False)"
   ]
  },
  {
   "cell_type": "code",
   "execution_count": 19,
   "metadata": {},
   "outputs": [],
   "source": [
    "#Exportando para Excel\n",
    "df.to_excel(\"produtos_powerbi.xlsx\", index=False)"
   ]
  },
  {
   "cell_type": "code",
   "execution_count": 20,
   "metadata": {},
   "outputs": [],
   "source": [
    "#Exportando para JSON\n",
    "df.to_json(\"produtos_powerbi.json\", orient=\"records\")"
   ]
  }
 ],
 "metadata": {
  "kernelspec": {
   "display_name": "Python 3",
   "language": "python",
   "name": "python3"
  },
  "language_info": {
   "codemirror_mode": {
    "name": "ipython",
    "version": 3
   },
   "file_extension": ".py",
   "mimetype": "text/x-python",
   "name": "python",
   "nbconvert_exporter": "python",
   "pygments_lexer": "ipython3",
   "version": "3.9.13"
  }
 },
 "nbformat": 4,
 "nbformat_minor": 2
}
